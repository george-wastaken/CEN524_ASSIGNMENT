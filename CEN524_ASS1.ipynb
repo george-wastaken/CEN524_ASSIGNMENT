{
 "cells": [
  {
   "cell_type": "code",
   "execution_count": 2,
   "id": "0e7607e2-01b3-49f7-9367-0dbd465855cc",
   "metadata": {},
   "outputs": [
    {
     "name": "stdout",
     "output_type": "stream",
     "text": [
      "4.222266666666667\n"
     ]
    }
   ],
   "source": [
    "import math\n",
    "\n",
    "def taylor_series(func,a,x,n):\n",
    "    sum = 0\n",
    "    for i in range(n):\n",
    "        term = func[i] * ((x - a)**i) / math.factorial(i)\n",
    "        sum += term\n",
    "    return sum\n",
    "\n",
    "function = [1, 1, 0.5, 0.1667]\n",
    "print(taylor_series(function, 0, 2, len(function)))"
   ]
  },
  {
   "cell_type": "code",
   "execution_count": 3,
   "id": "530173a7-3ad2-4cc6-ad2c-67b5bc16e087",
   "metadata": {},
   "outputs": [
    {
     "name": "stdout",
     "output_type": "stream",
     "text": [
      "120\n"
     ]
    }
   ],
   "source": [
    "def fact(n):\n",
    "    factorial = 1\n",
    "    for i in range(1, n + 1):\n",
    "        factorial *= i\n",
    "    return print(factorial)\n",
    "\n",
    "fact(5)"
   ]
  },
  {
   "cell_type": "code",
   "execution_count": 5,
   "id": "cca6ade5-cd4e-49ef-9eb8-a21da20d3e10",
   "metadata": {},
   "outputs": [
    {
     "name": "stdout",
     "output_type": "stream",
     "text": [
      "0.9863939238321437\n"
     ]
    }
   ],
   "source": [
    "import numpy as np\n",
    "\n",
    "def pearson_correlation(x, y):\n",
    "    mean_x = np.mean(x)\n",
    "    mean_y = np.mean(y)\n",
    "    numerator = sum((xi - mean_x) * (yi - mean_y) for xi, yi in zip(x, y))\n",
    "    denominator = (sum((xi - mean_x) ** 2 for xi in x) * sum((yi - mean_y) ** 2 for yi in y)) ** 0.5\n",
    "    return numerator / denominator if denominator != 0 else 0\n",
    "\n",
    "\n",
    "x = [1, 2, 3, 4, 5]\n",
    "y = [2, 3, 4, 5, 7]\n",
    "print(pearson_correlation(x, y))  \n"
   ]
  },
  {
   "cell_type": "code",
   "execution_count": 1,
   "id": "320ccc6f-bf82-4272-92e2-f249966e99ae",
   "metadata": {},
   "outputs": [
    {
     "name": "stdout",
     "output_type": "stream",
     "text": [
      "Iteration 1: 0.15000000000000002\n",
      "Iteration 2: 0.18750000000000003\n",
      "Iteration 3: 0.19921875000000003\n",
      "Iteration 4: 0.19999694824218753\n",
      "Iteration 5: 0.1999999999534339\n",
      "Iteration 6: 0.20000000000000004\n",
      "Iteration 7: 0.19999999999999998\n",
      "Iteration 8: 0.19999999999999998\n",
      "Iteration 9: 0.19999999999999998\n",
      "Iteration 10: 0.19999999999999998\n",
      "0.19999999999999998\n"
     ]
    }
   ],
   "source": [
    "def newton_reciprocal(N, x0=0.1, iterations=10):\n",
    "    x = x0\n",
    "    for i in range(iterations):\n",
    "        x = x * (2 - x * N)\n",
    "        print(f\"Iteration {i+1}: {x}\")\n",
    "    return x\n",
    "\n",
    "\n",
    "print(newton_reciprocal(5))  \n"
   ]
  },
  {
   "cell_type": "code",
   "execution_count": null,
   "id": "66da1406-aec8-4f83-b5a7-11f434e51f20",
   "metadata": {},
   "outputs": [],
   "source": []
  }
 ],
 "metadata": {
  "kernelspec": {
   "display_name": "Python 3 (ipykernel)",
   "language": "python",
   "name": "python3"
  },
  "language_info": {
   "codemirror_mode": {
    "name": "ipython",
    "version": 3
   },
   "file_extension": ".py",
   "mimetype": "text/x-python",
   "name": "python",
   "nbconvert_exporter": "python",
   "pygments_lexer": "ipython3",
   "version": "3.10.16"
  }
 },
 "nbformat": 4,
 "nbformat_minor": 5
}
